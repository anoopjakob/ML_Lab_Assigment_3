{
  "nbformat": 4,
  "nbformat_minor": 0,
  "metadata": {
    "colab": {
      "name": "ML_Lab_Assignment_3.ipynb",
      "provenance": [],
      "mount_file_id": "17rLQUsoKTc4KPtDYykri82amEs9Ig6PZ",
      "authorship_tag": "ABX9TyNOH4HV658LXHP6svN+71Ix",
      "include_colab_link": true
    },
    "kernelspec": {
      "display_name": "Python 3",
      "name": "python3"
    }
  },
  "cells": [
    {
      "cell_type": "markdown",
      "metadata": {
        "id": "view-in-github",
        "colab_type": "text"
      },
      "source": [
        "<a href=\"https://colab.research.google.com/github/anoopjakob/ML_Lab_Assigment_3/blob/main/ML_Lab_Assignment_3.ipynb\" target=\"_parent\"><img src=\"https://colab.research.google.com/assets/colab-badge.svg\" alt=\"Open In Colab\"/></a>"
      ]
    },
    {
      "cell_type": "markdown",
      "metadata": {
        "id": "BffXe0QfSYWt"
      },
      "source": [
        "1.**Exploring Data**: Nowadays there are lots of interesting data sets publicly available.\r\n",
        "They range in size, quality and the type of features and have resulted in many new\r\n",
        "machine learning techniques being developed.\r\n",
        "Find a public, free, supervised (i.e. it must have features and labels), machine learning\r\n",
        "dataset. Once you've found the data set, provide the following information:\r\n",
        "\r\n",
        "\r\n",
        "1.   The name of the data set.\r\n",
        "2.   From where the data set is obtained. \r\n",
        "3.   A one or two brief sentences description of the data set including what the features\r\n",
        "are and what is being predicted.\r\n",
        "4.  The number of examples in the data set.\r\n",
        "\r\n",
        "5.  The number of features for each example. If this isn't concrete (i.e. it's text), then\r\n",
        "a short description of the features.\r\n",
        "\r\n",
        "Extra credit will be given for particularly interesting data sets, e.g. the most unique,\r\n",
        "the data set with the largest number of examples and the data set with the largest\r\n",
        "number of features."
      ]
    },
    {
      "cell_type": "code",
      "metadata": {
        "id": "1UkjLkSDFRqt"
      },
      "source": [
        "import pandas as pd\r\n",
        "# by loading the csv file into a pandas dataframe we can analyse the dataset.\r\n",
        "import numpy as np"
      ],
      "execution_count": 169,
      "outputs": []
    },
    {
      "cell_type": "markdown",
      "metadata": {
        "id": "ZRJSdR-qWnV3"
      },
      "source": [
        "1.  **Name of the Dataset** : New York City Airbnb Open Data\r\n",
        "2. Dataset is Obtained from Kaggle. Here is the link : [New York City Airbnb Open Data](https://www.kaggle.com/dgomonov/new-york-city-airbnb-open-data)\r\n",
        "3.  **About this dataset** Since 2008, guests and hosts have used Airbnb to expand on traveling possibilities and present more unique, personalized way of experiencing the world. This dataset describes the listing activity and metrics in NYC, NY for 2019. This data file includes all needed information to find out more about hosts, geographical availability, necessary metrics to make predictions and draw conclusions.\r\n",
        "\r\n",
        "\r\n",
        "4.  **Number of Examples** : 48895\r\n",
        "5.  **Number of Features** : 16. Details about the features are described in the below cells\r\n",
        "\r\n",
        "**We can set many of this features as Labels to train on, Like the price reviews etc.,**"
      ]
    },
    {
      "cell_type": "code",
      "metadata": {
        "id": "w-gIj2g1KndY",
        "colab": {
          "base_uri": "https://localhost:8080/",
          "height": 408
        },
        "outputId": "a8ca65ef-0f80-47cc-f928-41d567ad2dff"
      },
      "source": [
        "# Loading the csv file into AirBnbDF dataframe.\r\n",
        "AirBnbDF = pd.read_csv('/content/drive/MyDrive/Colab Notebooks/AB_NYC_2019.csv')\r\n",
        "\r\n",
        "# To see the first 5 rows of the data frame \r\n",
        "AirBnbDF.head()\r\n"
      ],
      "execution_count": 170,
      "outputs": [
        {
          "output_type": "execute_result",
          "data": {
            "text/html": [
              "<div>\n",
              "<style scoped>\n",
              "    .dataframe tbody tr th:only-of-type {\n",
              "        vertical-align: middle;\n",
              "    }\n",
              "\n",
              "    .dataframe tbody tr th {\n",
              "        vertical-align: top;\n",
              "    }\n",
              "\n",
              "    .dataframe thead th {\n",
              "        text-align: right;\n",
              "    }\n",
              "</style>\n",
              "<table border=\"1\" class=\"dataframe\">\n",
              "  <thead>\n",
              "    <tr style=\"text-align: right;\">\n",
              "      <th></th>\n",
              "      <th>id</th>\n",
              "      <th>name</th>\n",
              "      <th>host_id</th>\n",
              "      <th>host_name</th>\n",
              "      <th>neighbourhood_group</th>\n",
              "      <th>neighbourhood</th>\n",
              "      <th>latitude</th>\n",
              "      <th>longitude</th>\n",
              "      <th>room_type</th>\n",
              "      <th>price</th>\n",
              "      <th>minimum_nights</th>\n",
              "      <th>number_of_reviews</th>\n",
              "      <th>last_review</th>\n",
              "      <th>reviews_per_month</th>\n",
              "      <th>calculated_host_listings_count</th>\n",
              "      <th>availability_365</th>\n",
              "    </tr>\n",
              "  </thead>\n",
              "  <tbody>\n",
              "    <tr>\n",
              "      <th>0</th>\n",
              "      <td>2539</td>\n",
              "      <td>Clean &amp; quiet apt home by the park</td>\n",
              "      <td>2787</td>\n",
              "      <td>John</td>\n",
              "      <td>Brooklyn</td>\n",
              "      <td>Kensington</td>\n",
              "      <td>40.64749</td>\n",
              "      <td>-73.97237</td>\n",
              "      <td>Private room</td>\n",
              "      <td>149</td>\n",
              "      <td>1</td>\n",
              "      <td>9</td>\n",
              "      <td>2018-10-19</td>\n",
              "      <td>0.21</td>\n",
              "      <td>6</td>\n",
              "      <td>365</td>\n",
              "    </tr>\n",
              "    <tr>\n",
              "      <th>1</th>\n",
              "      <td>2595</td>\n",
              "      <td>Skylit Midtown Castle</td>\n",
              "      <td>2845</td>\n",
              "      <td>Jennifer</td>\n",
              "      <td>Manhattan</td>\n",
              "      <td>Midtown</td>\n",
              "      <td>40.75362</td>\n",
              "      <td>-73.98377</td>\n",
              "      <td>Entire home/apt</td>\n",
              "      <td>225</td>\n",
              "      <td>1</td>\n",
              "      <td>45</td>\n",
              "      <td>2019-05-21</td>\n",
              "      <td>0.38</td>\n",
              "      <td>2</td>\n",
              "      <td>355</td>\n",
              "    </tr>\n",
              "    <tr>\n",
              "      <th>2</th>\n",
              "      <td>3647</td>\n",
              "      <td>THE VILLAGE OF HARLEM....NEW YORK !</td>\n",
              "      <td>4632</td>\n",
              "      <td>Elisabeth</td>\n",
              "      <td>Manhattan</td>\n",
              "      <td>Harlem</td>\n",
              "      <td>40.80902</td>\n",
              "      <td>-73.94190</td>\n",
              "      <td>Private room</td>\n",
              "      <td>150</td>\n",
              "      <td>3</td>\n",
              "      <td>0</td>\n",
              "      <td>NaN</td>\n",
              "      <td>NaN</td>\n",
              "      <td>1</td>\n",
              "      <td>365</td>\n",
              "    </tr>\n",
              "    <tr>\n",
              "      <th>3</th>\n",
              "      <td>3831</td>\n",
              "      <td>Cozy Entire Floor of Brownstone</td>\n",
              "      <td>4869</td>\n",
              "      <td>LisaRoxanne</td>\n",
              "      <td>Brooklyn</td>\n",
              "      <td>Clinton Hill</td>\n",
              "      <td>40.68514</td>\n",
              "      <td>-73.95976</td>\n",
              "      <td>Entire home/apt</td>\n",
              "      <td>89</td>\n",
              "      <td>1</td>\n",
              "      <td>270</td>\n",
              "      <td>2019-07-05</td>\n",
              "      <td>4.64</td>\n",
              "      <td>1</td>\n",
              "      <td>194</td>\n",
              "    </tr>\n",
              "    <tr>\n",
              "      <th>4</th>\n",
              "      <td>5022</td>\n",
              "      <td>Entire Apt: Spacious Studio/Loft by central park</td>\n",
              "      <td>7192</td>\n",
              "      <td>Laura</td>\n",
              "      <td>Manhattan</td>\n",
              "      <td>East Harlem</td>\n",
              "      <td>40.79851</td>\n",
              "      <td>-73.94399</td>\n",
              "      <td>Entire home/apt</td>\n",
              "      <td>80</td>\n",
              "      <td>10</td>\n",
              "      <td>9</td>\n",
              "      <td>2018-11-19</td>\n",
              "      <td>0.10</td>\n",
              "      <td>1</td>\n",
              "      <td>0</td>\n",
              "    </tr>\n",
              "  </tbody>\n",
              "</table>\n",
              "</div>"
            ],
            "text/plain": [
              "     id  ... availability_365\n",
              "0  2539  ...              365\n",
              "1  2595  ...              355\n",
              "2  3647  ...              365\n",
              "3  3831  ...              194\n",
              "4  5022  ...                0\n",
              "\n",
              "[5 rows x 16 columns]"
            ]
          },
          "metadata": {
            "tags": []
          },
          "execution_count": 170
        }
      ]
    },
    {
      "cell_type": "code",
      "metadata": {
        "colab": {
          "base_uri": "https://localhost:8080/"
        },
        "id": "vKhGlwjQMm7N",
        "outputId": "2bbc538b-1d89-4995-8517-5bedef08ba61"
      },
      "source": [
        "print('Total Examples on this dataframe : ',len(AirBnbDF))\r\n",
        "print('Total Features on this dataframe : ', len(AirBnbDF.columns))"
      ],
      "execution_count": 171,
      "outputs": [
        {
          "output_type": "stream",
          "text": [
            "Total Examples on this dataframe :  48895\n",
            "Total Features on this dataframe :  16\n"
          ],
          "name": "stdout"
        }
      ]
    },
    {
      "cell_type": "code",
      "metadata": {
        "colab": {
          "base_uri": "https://localhost:8080/"
        },
        "id": "5AXQ0BXeDZQk",
        "outputId": "055540af-c57f-4184-c3a1-e7e3744dfc45"
      },
      "source": [
        "# Feature types are listed using .info() of pandas.\r\n",
        "AirBnbDF.info()"
      ],
      "execution_count": 172,
      "outputs": [
        {
          "output_type": "stream",
          "text": [
            "<class 'pandas.core.frame.DataFrame'>\n",
            "RangeIndex: 48895 entries, 0 to 48894\n",
            "Data columns (total 16 columns):\n",
            " #   Column                          Non-Null Count  Dtype  \n",
            "---  ------                          --------------  -----  \n",
            " 0   id                              48895 non-null  int64  \n",
            " 1   name                            48879 non-null  object \n",
            " 2   host_id                         48895 non-null  int64  \n",
            " 3   host_name                       48874 non-null  object \n",
            " 4   neighbourhood_group             48895 non-null  object \n",
            " 5   neighbourhood                   48895 non-null  object \n",
            " 6   latitude                        48895 non-null  float64\n",
            " 7   longitude                       48895 non-null  float64\n",
            " 8   room_type                       48895 non-null  object \n",
            " 9   price                           48895 non-null  int64  \n",
            " 10  minimum_nights                  48895 non-null  int64  \n",
            " 11  number_of_reviews               48895 non-null  int64  \n",
            " 12  last_review                     38843 non-null  object \n",
            " 13  reviews_per_month               38843 non-null  float64\n",
            " 14  calculated_host_listings_count  48895 non-null  int64  \n",
            " 15  availability_365                48895 non-null  int64  \n",
            "dtypes: float64(3), int64(7), object(6)\n",
            "memory usage: 6.0+ MB\n"
          ],
          "name": "stdout"
        }
      ]
    },
    {
      "cell_type": "code",
      "metadata": {
        "colab": {
          "base_uri": "https://localhost:8080/",
          "height": 308
        },
        "id": "r_L0AbdTMsQS",
        "outputId": "5b9e2a7b-c2ae-4730-dec4-3ecf06d3eddb"
      },
      "source": [
        "# This can give you an idea about the data that we are handling. Calulated only for Numerical values\r\n",
        "AirBnbDF.describe()"
      ],
      "execution_count": 173,
      "outputs": [
        {
          "output_type": "execute_result",
          "data": {
            "text/html": [
              "<div>\n",
              "<style scoped>\n",
              "    .dataframe tbody tr th:only-of-type {\n",
              "        vertical-align: middle;\n",
              "    }\n",
              "\n",
              "    .dataframe tbody tr th {\n",
              "        vertical-align: top;\n",
              "    }\n",
              "\n",
              "    .dataframe thead th {\n",
              "        text-align: right;\n",
              "    }\n",
              "</style>\n",
              "<table border=\"1\" class=\"dataframe\">\n",
              "  <thead>\n",
              "    <tr style=\"text-align: right;\">\n",
              "      <th></th>\n",
              "      <th>id</th>\n",
              "      <th>host_id</th>\n",
              "      <th>latitude</th>\n",
              "      <th>longitude</th>\n",
              "      <th>price</th>\n",
              "      <th>minimum_nights</th>\n",
              "      <th>number_of_reviews</th>\n",
              "      <th>reviews_per_month</th>\n",
              "      <th>calculated_host_listings_count</th>\n",
              "      <th>availability_365</th>\n",
              "    </tr>\n",
              "  </thead>\n",
              "  <tbody>\n",
              "    <tr>\n",
              "      <th>count</th>\n",
              "      <td>4.889500e+04</td>\n",
              "      <td>4.889500e+04</td>\n",
              "      <td>48895.000000</td>\n",
              "      <td>48895.000000</td>\n",
              "      <td>48895.000000</td>\n",
              "      <td>48895.000000</td>\n",
              "      <td>48895.000000</td>\n",
              "      <td>38843.000000</td>\n",
              "      <td>48895.000000</td>\n",
              "      <td>48895.000000</td>\n",
              "    </tr>\n",
              "    <tr>\n",
              "      <th>mean</th>\n",
              "      <td>1.901714e+07</td>\n",
              "      <td>6.762001e+07</td>\n",
              "      <td>40.728949</td>\n",
              "      <td>-73.952170</td>\n",
              "      <td>152.720687</td>\n",
              "      <td>7.029962</td>\n",
              "      <td>23.274466</td>\n",
              "      <td>1.373221</td>\n",
              "      <td>7.143982</td>\n",
              "      <td>112.781327</td>\n",
              "    </tr>\n",
              "    <tr>\n",
              "      <th>std</th>\n",
              "      <td>1.098311e+07</td>\n",
              "      <td>7.861097e+07</td>\n",
              "      <td>0.054530</td>\n",
              "      <td>0.046157</td>\n",
              "      <td>240.154170</td>\n",
              "      <td>20.510550</td>\n",
              "      <td>44.550582</td>\n",
              "      <td>1.680442</td>\n",
              "      <td>32.952519</td>\n",
              "      <td>131.622289</td>\n",
              "    </tr>\n",
              "    <tr>\n",
              "      <th>min</th>\n",
              "      <td>2.539000e+03</td>\n",
              "      <td>2.438000e+03</td>\n",
              "      <td>40.499790</td>\n",
              "      <td>-74.244420</td>\n",
              "      <td>0.000000</td>\n",
              "      <td>1.000000</td>\n",
              "      <td>0.000000</td>\n",
              "      <td>0.010000</td>\n",
              "      <td>1.000000</td>\n",
              "      <td>0.000000</td>\n",
              "    </tr>\n",
              "    <tr>\n",
              "      <th>25%</th>\n",
              "      <td>9.471945e+06</td>\n",
              "      <td>7.822033e+06</td>\n",
              "      <td>40.690100</td>\n",
              "      <td>-73.983070</td>\n",
              "      <td>69.000000</td>\n",
              "      <td>1.000000</td>\n",
              "      <td>1.000000</td>\n",
              "      <td>0.190000</td>\n",
              "      <td>1.000000</td>\n",
              "      <td>0.000000</td>\n",
              "    </tr>\n",
              "    <tr>\n",
              "      <th>50%</th>\n",
              "      <td>1.967728e+07</td>\n",
              "      <td>3.079382e+07</td>\n",
              "      <td>40.723070</td>\n",
              "      <td>-73.955680</td>\n",
              "      <td>106.000000</td>\n",
              "      <td>3.000000</td>\n",
              "      <td>5.000000</td>\n",
              "      <td>0.720000</td>\n",
              "      <td>1.000000</td>\n",
              "      <td>45.000000</td>\n",
              "    </tr>\n",
              "    <tr>\n",
              "      <th>75%</th>\n",
              "      <td>2.915218e+07</td>\n",
              "      <td>1.074344e+08</td>\n",
              "      <td>40.763115</td>\n",
              "      <td>-73.936275</td>\n",
              "      <td>175.000000</td>\n",
              "      <td>5.000000</td>\n",
              "      <td>24.000000</td>\n",
              "      <td>2.020000</td>\n",
              "      <td>2.000000</td>\n",
              "      <td>227.000000</td>\n",
              "    </tr>\n",
              "    <tr>\n",
              "      <th>max</th>\n",
              "      <td>3.648724e+07</td>\n",
              "      <td>2.743213e+08</td>\n",
              "      <td>40.913060</td>\n",
              "      <td>-73.712990</td>\n",
              "      <td>10000.000000</td>\n",
              "      <td>1250.000000</td>\n",
              "      <td>629.000000</td>\n",
              "      <td>58.500000</td>\n",
              "      <td>327.000000</td>\n",
              "      <td>365.000000</td>\n",
              "    </tr>\n",
              "  </tbody>\n",
              "</table>\n",
              "</div>"
            ],
            "text/plain": [
              "                 id  ...  availability_365\n",
              "count  4.889500e+04  ...      48895.000000\n",
              "mean   1.901714e+07  ...        112.781327\n",
              "std    1.098311e+07  ...        131.622289\n",
              "min    2.539000e+03  ...          0.000000\n",
              "25%    9.471945e+06  ...          0.000000\n",
              "50%    1.967728e+07  ...         45.000000\n",
              "75%    2.915218e+07  ...        227.000000\n",
              "max    3.648724e+07  ...        365.000000\n",
              "\n",
              "[8 rows x 10 columns]"
            ]
          },
          "metadata": {
            "tags": []
          },
          "execution_count": 173
        }
      ]
    },
    {
      "cell_type": "code",
      "metadata": {
        "id": "O7sKIfk1dKnJ"
      },
      "source": [
        ""
      ],
      "execution_count": 173,
      "outputs": []
    },
    {
      "cell_type": "markdown",
      "metadata": {
        "id": "Mx8HUAd5Ah-Y"
      },
      "source": [
        "2.**Data analysis**: The \frst thing to do before trying any machine learning technique is to look deep into the data. This can include looking for funny values in the data, looking for outliers, looking at the range of feature values, what features seem important,\r\n",
        "etc.\r\n",
        "\r\n",
        "Consider a modi\fed version of passenger survival data for the Titanic1(titanic-train.csv)\r\n",
        "that is uploaded in Google Classroom.\r\n",
        "\r\n",
        "\r\n",
        "(a) For each of the features calculate the training error, Accuracy and error.\r\n",
        "\r\n",
        "(b) Which feature would be the best to use?"
      ]
    },
    {
      "cell_type": "code",
      "metadata": {
        "id": "Ou2F0C40RGfT",
        "colab": {
          "base_uri": "https://localhost:8080/",
          "height": 198
        },
        "outputId": "3e211f9f-7d83-4b93-fbb1-27242947caa2"
      },
      "source": [
        "# loading the csv file into a pandas dataframe\r\n",
        "# since i am using google colab .. CSV file is loaded from mounted google drive\r\n",
        "\r\n",
        "# storing the csv values into titanicDF dataframe\r\n",
        "titanicDF = pd.read_csv('/content/drive/MyDrive/Colab Notebooks/titanic-train.csv')\r\n",
        "\r\n",
        "titanicDF.head() # to display the first five values of the dataframe"
      ],
      "execution_count": 178,
      "outputs": [
        {
          "output_type": "execute_result",
          "data": {
            "text/html": [
              "<div>\n",
              "<style scoped>\n",
              "    .dataframe tbody tr th:only-of-type {\n",
              "        vertical-align: middle;\n",
              "    }\n",
              "\n",
              "    .dataframe tbody tr th {\n",
              "        vertical-align: top;\n",
              "    }\n",
              "\n",
              "    .dataframe thead th {\n",
              "        text-align: right;\n",
              "    }\n",
              "</style>\n",
              "<table border=\"1\" class=\"dataframe\">\n",
              "  <thead>\n",
              "    <tr style=\"text-align: right;\">\n",
              "      <th></th>\n",
              "      <th>First_class</th>\n",
              "      <th>Sex</th>\n",
              "      <th>Age</th>\n",
              "      <th>SibSp</th>\n",
              "      <th>ParCh</th>\n",
              "      <th>Embarked</th>\n",
              "      <th>Survived</th>\n",
              "    </tr>\n",
              "  </thead>\n",
              "  <tbody>\n",
              "    <tr>\n",
              "      <th>0</th>\n",
              "      <td>0</td>\n",
              "      <td>0</td>\n",
              "      <td>0</td>\n",
              "      <td>0</td>\n",
              "      <td>1</td>\n",
              "      <td>0</td>\n",
              "      <td>1</td>\n",
              "    </tr>\n",
              "    <tr>\n",
              "      <th>1</th>\n",
              "      <td>0</td>\n",
              "      <td>1</td>\n",
              "      <td>0</td>\n",
              "      <td>1</td>\n",
              "      <td>1</td>\n",
              "      <td>0</td>\n",
              "      <td>1</td>\n",
              "    </tr>\n",
              "    <tr>\n",
              "      <th>2</th>\n",
              "      <td>0</td>\n",
              "      <td>1</td>\n",
              "      <td>0</td>\n",
              "      <td>1</td>\n",
              "      <td>1</td>\n",
              "      <td>0</td>\n",
              "      <td>1</td>\n",
              "    </tr>\n",
              "    <tr>\n",
              "      <th>3</th>\n",
              "      <td>0</td>\n",
              "      <td>1</td>\n",
              "      <td>0</td>\n",
              "      <td>0</td>\n",
              "      <td>1</td>\n",
              "      <td>0</td>\n",
              "      <td>1</td>\n",
              "    </tr>\n",
              "    <tr>\n",
              "      <th>4</th>\n",
              "      <td>0</td>\n",
              "      <td>0</td>\n",
              "      <td>0</td>\n",
              "      <td>0</td>\n",
              "      <td>1</td>\n",
              "      <td>0</td>\n",
              "      <td>1</td>\n",
              "    </tr>\n",
              "  </tbody>\n",
              "</table>\n",
              "</div>"
            ],
            "text/plain": [
              "   First_class  Sex  Age  SibSp  ParCh  Embarked  Survived\n",
              "0            0    0    0      0      1         0         1\n",
              "1            0    1    0      1      1         0         1\n",
              "2            0    1    0      1      1         0         1\n",
              "3            0    1    0      0      1         0         1\n",
              "4            0    0    0      0      1         0         1"
            ]
          },
          "metadata": {
            "tags": []
          },
          "execution_count": 178
        }
      ]
    },
    {
      "cell_type": "code",
      "metadata": {
        "id": "4Ybro3_uG4LO"
      },
      "source": [
        "# creating a function to find the accuracy and error \r\n",
        "\r\n",
        "def AccuracyAndError(feature):\r\n",
        "\r\n",
        "  \"\"\"\r\n",
        "    Used to Find the Accuracy and Error of Each Feature\r\n",
        "    \r\n",
        "    input: String, features of the dataset.\r\n",
        "    return: Float, accuracy and error\r\n",
        "  \"\"\"\r\n",
        "\r\n",
        "  # splitting the dataframe to two sets.\r\n",
        "\r\n",
        "  # bin0 contains set of examples having the particular feature  = 0\r\n",
        "  bin0 = titanicDF[titanicDF[feature]==0]\r\n",
        "\r\n",
        "  # bin1 contains set of examples  having particular feature = 1\r\n",
        "  bin1 = titanicDF[titanicDF[feature]==1]\r\n",
        "\r\n",
        "  # calculating the majority count for the label in each bin\r\n",
        "\r\n",
        "  majority_bin0 = max(len(bin0[bin0['Survived']==1]),len(bin0[bin0['Survived']==0]))\r\n",
        "  majority_bin1 = max(len(bin1[bin1['Survived']==1]), len(bin1[bin1['Survived']==0]))\r\n",
        "\r\n",
        "  # calculating the training accuracy and error of particluar feature\r\n",
        "\r\n",
        "  accuracy = (majority_bin0 + majority_bin1)/len(titanicDF)\r\n",
        "  error = 1 - accuracy\r\n",
        "  return accuracy, 1-accuracy\r\n"
      ],
      "execution_count": 175,
      "outputs": []
    },
    {
      "cell_type": "code",
      "metadata": {
        "colab": {
          "base_uri": "https://localhost:8080/"
        },
        "id": "mxX4VvAdoSkw",
        "outputId": "9b7abd2d-4ab7-4c7f-b9d6-9ffe65beb2af"
      },
      "source": [
        "# all the names of the features are stored in a numpy array \r\n",
        "featureArray=np.array(['First_class', 'Sex', 'Age', 'SibSp', 'ParCh', 'Embarked'])\r\n",
        "\r\n",
        "# a dictionary is used to store output \r\n",
        "# key = feature name\r\n",
        "# value = accuracy\r\n",
        "resultDic={} # empty dictionary defined\r\n",
        "\r\n",
        "# for storing and printing the output\r\n",
        "for i in range(len(featureArray)):\r\n",
        "  feature = featureArray[i]\r\n",
        "  accuracy, error = AccuracyAndError(feature) # function call\r\n",
        "  resultDic[featureArray[i]] = accuracy # updating the value into dictionary\r\n",
        "  print('{} \\n Accuracy: {} \\n Error: {} \\n \\n'.format(feature, round(accuracy,3), round(error,3)))\r\n"
      ],
      "execution_count": 176,
      "outputs": [
        {
          "output_type": "stream",
          "text": [
            "First_class \n",
            " Accuracy: 0.675 \n",
            " Error: 0.325 \n",
            " \n",
            "\n",
            "Sex \n",
            " Accuracy: 0.78 \n",
            " Error: 0.22 \n",
            " \n",
            "\n",
            "Age \n",
            " Accuracy: 0.594 \n",
            " Error: 0.406 \n",
            " \n",
            "\n",
            "SibSp \n",
            " Accuracy: 0.594 \n",
            " Error: 0.406 \n",
            " \n",
            "\n",
            "ParCh \n",
            " Accuracy: 0.615 \n",
            " Error: 0.385 \n",
            " \n",
            "\n",
            "Embarked \n",
            " Accuracy: 0.616 \n",
            " Error: 0.384 \n",
            " \n",
            "\n"
          ],
          "name": "stdout"
        }
      ]
    },
    {
      "cell_type": "code",
      "metadata": {
        "colab": {
          "base_uri": "https://localhost:8080/"
        },
        "id": "F-whcU9QmBZB",
        "outputId": "0fdf0e87-3977-4835-a23a-67311ca8dc07"
      },
      "source": [
        "import operator # used to access particular values from dictonary\r\n",
        "\r\n",
        "# MaxValueKey to store the key with highest value\r\n",
        "MaxValueKey = max(resultDic.items(), key=operator.itemgetter(1))[0]\r\n",
        "\r\n",
        "print('The Best Feature would be \"{}\" with an Accuracy of {}%'.format(MaxValueKey,\r\n",
        "                                                                      round(resultDic[MaxValueKey]*100,3)))\r\n"
      ],
      "execution_count": 177,
      "outputs": [
        {
          "output_type": "stream",
          "text": [
            "The Best Feature would be \"Sex\" with an Accuracy of 78.011%\n"
          ],
          "name": "stdout"
        }
      ]
    },
    {
      "cell_type": "code",
      "metadata": {
        "id": "QY3WUzNol4Um"
      },
      "source": [
        ""
      ],
      "execution_count": 177,
      "outputs": []
    }
  ]
}